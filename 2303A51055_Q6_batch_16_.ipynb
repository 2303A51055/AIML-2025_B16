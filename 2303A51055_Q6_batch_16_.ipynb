{
  "nbformat": 4,
  "nbformat_minor": 0,
  "metadata": {
    "colab": {
      "provenance": [],
      "authorship_tag": "ABX9TyM9aXTHVEOxqrSueQz7wwCr",
      "include_colab_link": true
    },
    "kernelspec": {
      "name": "python3",
      "display_name": "Python 3"
    },
    "language_info": {
      "name": "python"
    }
  },
  "cells": [
    {
      "cell_type": "markdown",
      "metadata": {
        "id": "view-in-github",
        "colab_type": "text"
      },
      "source": [
        "<a href=\"https://colab.research.google.com/github/2303A51055/AIML-2025_B16/blob/main/2303A51055_Q6_batch_16_.ipynb\" target=\"_parent\"><img src=\"https://colab.research.google.com/assets/colab-badge.svg\" alt=\"Open In Colab\"/></a>"
      ]
    },
    {
      "cell_type": "code",
      "source": [
        "import pandas as pd\n",
        "\n",
        "\n",
        "file_path = \"/content/NPHA-doctor-visits.csv\"\n",
        "data = pd.read_csv(file_path)\n",
        "\n",
        "\n",
        "relevant_columns = [\n",
        "    'Phyiscal Health', 'Mental Health', 'Dental Health', 'Employment',\n",
        "    'Stress Keeps Patient from Sleeping', 'Medication Keeps Patient from Sleeping',\n",
        "    'Pain Keeps Patient from Sleeping', 'Trouble Sleeping'\n",
        "]\n",
        "\n",
        "\n",
        "correlation_matrix = data[relevant_columns].corr()\n",
        "\n",
        "\n",
        "top_factors = correlation_matrix['Phyiscal Health'].sort_values(ascending=False)\n",
        "\n",
        "top_5_reasons = top_factors[1:6]\n",
        "\n",
        "\n",
        "print(\"Top 5 reasons for healthy aging:\")\n",
        "print(top_5_reasons)"
      ],
      "metadata": {
        "colab": {
          "base_uri": "https://localhost:8080/"
        },
        "id": "7NOQZn_aHcUY",
        "outputId": "681415ec-3b36-4f01-fc4b-f7324afeadd7"
      },
      "execution_count": 15,
      "outputs": [
        {
          "output_type": "stream",
          "name": "stdout",
          "text": [
            "Top 5 reasons for healthy aging:\n",
            "Mental Health                             0.404705\n",
            "Dental Health                             0.404238\n",
            "Pain Keeps Patient from Sleeping          0.275266\n",
            "Employment                                0.147526\n",
            "Medication Keeps Patient from Sleeping    0.109827\n",
            "Name: Phyiscal Health, dtype: float64\n"
          ]
        }
      ]
    },
    {
      "cell_type": "code",
      "source": [
        "\n",
        "aging_issues_by_community = data.groupby(['Race', 'Gender'])['Phyiscal Health'].mean()\n",
        "\n",
        "\n",
        "highest_aging_issues = aging_issues_by_community.idxmin(), aging_issues_by_community.min()\n",
        "\n",
        "\n",
        "print(\"Community with the highest aging issues (lowest Physical Health score):\")\n",
        "print(highest_aging_issues)"
      ],
      "metadata": {
        "colab": {
          "base_uri": "https://localhost:8080/"
        },
        "id": "GVmO1ghVIpHg",
        "outputId": "2869b516-a106-4e90-891d-b5a02bd77901"
      },
      "execution_count": 16,
      "outputs": [
        {
          "output_type": "stream",
          "name": "stdout",
          "text": [
            "Community with the highest aging issues (lowest Physical Health score):\n",
            "((2, 1), 2.652173913043478)\n"
          ]
        }
      ]
    },
    {
      "cell_type": "code",
      "source": [
        "\n",
        "aging_issues_by_gender = data.groupby('Gender')['Phyiscal Health'].mean()\n",
        "\n",
        "\n",
        "most_aging_issues_gender = aging_issues_by_gender.idxmin()\n",
        "least_aging_issues_gender = aging_issues_by_gender.idxmax()\n",
        "\n",
        "\n",
        "print(\"Gender with the most aging issues (lowest Physical Health score):\", most_aging_issues_gender)\n",
        "print(\"Gender with the least aging issues (highest Physical Health score):\", least_aging_issues_gender)"
      ],
      "metadata": {
        "colab": {
          "base_uri": "https://localhost:8080/"
        },
        "id": "C6JoBCovIwbq",
        "outputId": "51e5deef-bf3b-4c08-c71d-3697ad4afad3"
      },
      "execution_count": 17,
      "outputs": [
        {
          "output_type": "stream",
          "name": "stdout",
          "text": [
            "Gender with the most aging issues (lowest Physical Health score): 2\n",
            "Gender with the least aging issues (highest Physical Health score): 1\n"
          ]
        }
      ]
    },
    {
      "cell_type": "code",
      "source": [
        "\n",
        "columns_to_analyze = ['Age', 'Employment', 'Stress Keeps Patient from Sleeping', 'Phyiscal Health']\n",
        "\n",
        "\n",
        "correlation_with_health = data[columns_to_analyze].corr()['Phyiscal Health'].drop('Phyiscal Health')\n",
        "\n",
        "\n",
        "print(\"Correlation of factors with Physical Health (proxy for healthy aging):\")\n",
        "print(correlation_with_health)"
      ],
      "metadata": {
        "colab": {
          "base_uri": "https://localhost:8080/"
        },
        "id": "_cGQaEW1IymC",
        "outputId": "9f1d5f38-8e6f-4c86-ac4c-049435f5e6fe"
      },
      "execution_count": 18,
      "outputs": [
        {
          "output_type": "stream",
          "name": "stdout",
          "text": [
            "Correlation of factors with Physical Health (proxy for healthy aging):\n",
            "Age                                        NaN\n",
            "Employment                            0.147526\n",
            "Stress Keeps Patient from Sleeping    0.034014\n",
            "Name: Phyiscal Health, dtype: float64\n"
          ]
        }
      ]
    },
    {
      "cell_type": "code",
      "source": [
        "\n",
        "doctor_visits_by_category = data.groupby(['Race', 'Gender'])['Number of Doctors Visited'].mean()\n",
        "\n",
        "\n",
        "most_doctor_visits = doctor_visits_by_category.idxmax(), doctor_visits_by_category.max()\n",
        "\n",
        "\n",
        "print(\"Category with the most number of doctor visits:\")\n",
        "print(most_doctor_visits)"
      ],
      "metadata": {
        "colab": {
          "base_uri": "https://localhost:8080/"
        },
        "id": "PUh2FmTiI9oy",
        "outputId": "1cfd4636-1d83-4416-8226-dcafda370eb0"
      },
      "execution_count": 19,
      "outputs": [
        {
          "output_type": "stream",
          "name": "stdout",
          "text": [
            "Category with the most number of doctor visits:\n",
            "((5, 1), 2.375)\n"
          ]
        }
      ]
    }
  ]
}